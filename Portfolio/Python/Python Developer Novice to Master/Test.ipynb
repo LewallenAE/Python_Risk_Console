{
 "cells": [
  {
   "cell_type": "code",
   "execution_count": 1,
   "id": "2c9cba31",
   "metadata": {},
   "outputs": [
    {
     "name": "stdout",
     "output_type": "stream",
     "text": [
      "Hello World\n"
     ]
    }
   ],
   "source": [
    "print('Hello World')"
   ]
  },
  {
   "cell_type": "code",
   "execution_count": 5,
   "id": "93891328",
   "metadata": {},
   "outputs": [
    {
     "name": "stdout",
     "output_type": "stream",
     "text": [
      "10, Is even.\n",
      "11, Is odd.\n"
     ]
    }
   ],
   "source": [
    "def even_or_odd(num):\n",
    "    if num % 2 ==0:\n",
    "        return (f\"{num}, Is even.\")\n",
    "    else:\n",
    "        return (f\"{num}, Is odd.\") \n",
    "\n",
    "print(even_or_odd(10))\n",
    "print(even_or_odd(11))"
   ]
  },
  {
   "cell_type": "code",
   "execution_count": null,
   "id": "e6c40b0e",
   "metadata": {},
   "outputs": [
    {
     "name": "stdout",
     "output_type": "stream",
     "text": [
      "Hello, Tom welcome to your first day in Python!\n"
     ]
    }
   ],
   "source": [
    "def greet(name):\n",
    "    return f\"Hello, {name} welcome to your first day in Python!\" \n",
    "\n",
    "greet(\"Nancy\")\n",
    "print(greet(\"Tom\"))\n"
   ]
  },
  {
   "cell_type": "code",
   "execution_count": 10,
   "id": "7767e8ef",
   "metadata": {},
   "outputs": [
    {
     "name": "stdout",
     "output_type": "stream",
     "text": [
      "15\n"
     ]
    }
   ],
   "source": [
    "# Args and Kwargs\n",
    "\n",
    "def add(*nums):\n",
    "    sum_num = 0\n",
    "    for num in nums:\n",
    "        sum_num += num\n",
    "    return sum_num\n",
    "print(add(1, 2, 3, 4, 5))  # Output: 15\n",
    "\n"
   ]
  },
  {
   "cell_type": "code",
   "execution_count": 11,
   "id": "25380b6b",
   "metadata": {},
   "outputs": [
    {
     "name": "stdout",
     "output_type": "stream",
     "text": [
      "one: 1\n",
      "two: 2\n",
      "three: 3\n"
     ]
    }
   ],
   "source": [
    "def print_numbers(**kwargs):\n",
    "    for key, value in kwargs.items():\n",
    "        print(f\"{key}: {value}\")\n",
    "print_numbers(one=1, two=2, three=3)  # Output: one: 1, two: 2, three: 3\n",
    "\n"
   ]
  },
  {
   "cell_type": "code",
   "execution_count": 12,
   "id": "9e748799",
   "metadata": {},
   "outputs": [
    {
     "name": "stdout",
     "output_type": "stream",
     "text": [
      "dick1 is the key and 1 is the value of the pair\n",
      "balls1 is the key and 2 is the value of the pair\n",
      "pussy3 is the key and 3 is the value of the pair\n",
      "asshole4 is the key and 4 is the value of the pair\n"
     ]
    }
   ],
   "source": [
    "def shit_head(**shits):\n",
    "    for dick, nuts in shits.items():\n",
    "        print(f\"{dick} is the key and {nuts} is the value of the pair\")\n",
    "shit_head(dick1=1, balls1=2, pussy3=3, asshole4=4)"
   ]
  },
  {
   "cell_type": "code",
   "execution_count": 16,
   "id": "df8bcd39",
   "metadata": {},
   "outputs": [
    {
     "name": "stdout",
     "output_type": "stream",
     "text": [
      "32.0\n",
      "0.0\n"
     ]
    }
   ],
   "source": [
    "def Temperature_Conversion(temp, unit):\n",
    "    \"\"\"This converts C to F and F to C\"\"\"\n",
    "    if unit == 'C':\n",
    "        return temp * 9/5 + 32\n",
    "    elif unit == 'F':\n",
    "        return (temp-32) * 5/9\n",
    "    else:\n",
    "        return None\n",
    "print(Temperature_Conversion(0, 'C'))\n",
    "print(Temperature_Conversion(32, 'F'))"
   ]
  },
  {
   "cell_type": "code",
   "execution_count": 17,
   "id": "f1fc8a4e",
   "metadata": {},
   "outputs": [
    {
     "name": "stdout",
     "output_type": "stream",
     "text": [
      "(True, 'The password is strong enough')\n",
      "(False, 'The password does not have a digit')\n"
     ]
    }
   ],
   "source": [
    "def password_checker(password):\n",
    "    \"\"\"Checks the strength of the password\"\"\"\n",
    "    if len(password) < 8:\n",
    "        return (False, \"The password is not long enough\")\n",
    "    if not any(char.isdigit() for char in password):\n",
    "        return (False, \"The password does not have a digit\")\n",
    "    if not any(char.islower() for char in password):\n",
    "        return (False, \"The password does not have a lowercase letter\")\n",
    "    if not any(char.isupper()for char in password):\n",
    "        return (False, \"The password does not have a uppercase letter\")\n",
    "    if not any(char in '!@#$%^&*()_+' for char in password):\n",
    "        return (False, \"The password does not have a special character\")\n",
    "    return (True, \"The password is strong enough\")\n",
    "print(password_checker(\"Password123!\"))\n",
    "print(password_checker(\"weakpass\"))"
   ]
  },
  {
   "cell_type": "code",
   "execution_count": 26,
   "id": "c8a070b2",
   "metadata": {},
   "outputs": [
    {
     "name": "stdout",
     "output_type": "stream",
     "text": [
      "13.6\n"
     ]
    }
   ],
   "source": [
    "\"\"\" Calculate the total cost of items in a shopping cart / list\"\"\"\n",
    "\n",
    "def calculate_total_cost(cart):\n",
    "     \n",
    "    cart_cost = 0\n",
    "\n",
    "    for item in cart:\n",
    "        cart_cost += item[\"price\"] * item['quantity']\n",
    "    return cart_cost\n",
    "cart = [\n",
    "        {\"item\": \"apple\", \"price\": 0.5, \"quantity\": 4},\n",
    "        {\"item\": \"banana\", \"price\": 0.3, \"quantity\": 6},\n",
    "        {\"item\": \"orange\", \"price\": 0.8, \"quantity\": 3},\n",
    "        {\"item\": \"grape\", \"price\": 1.2, \"quantity\": 2},\n",
    "        {\"item\": \"kiwi\", \"price\": 1.0, \"quantity\": 5}    \n",
    "    ]\n",
    "cart_cost = calculate_total_cost(cart)\n",
    "print(cart_cost) # Output: 8.1"
   ]
  },
  {
   "cell_type": "code",
   "execution_count": null,
   "id": "ce1ad867",
   "metadata": {},
   "outputs": [],
   "source": []
  },
  {
   "cell_type": "code",
   "execution_count": null,
   "id": "015758e7",
   "metadata": {},
   "outputs": [],
   "source": []
  },
  {
   "cell_type": "code",
   "execution_count": null,
   "id": "1f7a9116",
   "metadata": {},
   "outputs": [],
   "source": []
  },
  {
   "cell_type": "code",
   "execution_count": null,
   "id": "0ee6b976",
   "metadata": {},
   "outputs": [],
   "source": []
  },
  {
   "cell_type": "code",
   "execution_count": null,
   "id": "d5eea617",
   "metadata": {},
   "outputs": [],
   "source": []
  }
 ],
 "metadata": {
  "kernelspec": {
   "display_name": ".venv",
   "language": "python",
   "name": "python3"
  },
  "language_info": {
   "codemirror_mode": {
    "name": "ipython",
    "version": 3
   },
   "file_extension": ".py",
   "mimetype": "text/x-python",
   "name": "python",
   "nbconvert_exporter": "python",
   "pygments_lexer": "ipython3",
   "version": "3.9.6"
  }
 },
 "nbformat": 4,
 "nbformat_minor": 5
}
